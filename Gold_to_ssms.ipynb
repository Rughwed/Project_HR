{
 "cells": [
  {
   "cell_type": "code",
   "execution_count": null,
   "id": "1628363f-e6e0-4f56-ad93-5d149ad38e9a",
   "metadata": {
    "microsoft": {
     "language": "python",
     "language_group": "synapse_pyspark"
    }
   },
   "outputs": [
    {
     "data": {
      "application/vnd.livy.statement-meta+json": {
       "execution_finish_time": "2025-04-05T06:49:57.1094937Z",
       "execution_start_time": "2025-04-05T06:49:57.0532939Z",
       "livy_statement_state": "available",
       "normalized_state": "finished",
       "parent_msg_id": "2232084a-ae3c-4d5a-b865-4e48f498aeb8",
       "queued_time": "2025-04-05T06:49:56.5852651Z",
       "session_id": "aa6e7c3b-3526-4a87-86df-a61688ae6faa",
       "session_start_time": null,
       "spark_pool": null,
       "state": "finished",
       "statement_id": 6,
       "statement_ids": [
        6
       ]
      },
      "text/plain": [
       "StatementMeta(, aa6e7c3b-3526-4a87-86df-a61688ae6faa, 6, Finished, Available, Finished)"
      ]
     },
     "metadata": {},
     "output_type": "display_data"
    }
   ],
   "source": [
    "%run file_paths_updt Copy"
   ]
  },
  {
   "cell_type": "code",
   "execution_count": 4,
   "id": "79937bd8-45a6-4831-9f98-8996f55d850b",
   "metadata": {
    "collapsed": false,
    "microsoft": {
     "language": "python",
     "language_group": "synapse_pyspark"
    }
   },
   "outputs": [
    {
     "data": {
      "application/vnd.livy.statement-meta+json": {
       "execution_finish_time": "2025-04-05T06:49:59.3940581Z",
       "execution_start_time": "2025-04-05T06:49:59.0991548Z",
       "livy_statement_state": "available",
       "normalized_state": "finished",
       "parent_msg_id": "1ef78cff-9edf-4a7d-8ec8-9ad3a1e86d4e",
       "queued_time": "2025-04-05T06:49:59.0981085Z",
       "session_id": "aa6e7c3b-3526-4a87-86df-a61688ae6faa",
       "session_start_time": null,
       "spark_pool": null,
       "state": "finished",
       "statement_id": 7,
       "statement_ids": [
        7
       ]
      },
      "text/plain": [
       "StatementMeta(, aa6e7c3b-3526-4a87-86df-a61688ae6faa, 7, Finished, Available, Finished)"
      ]
     },
     "metadata": {},
     "output_type": "display_data"
    }
   ],
   "source": [
    "import sys\n"
   ]
  },
  {
   "cell_type": "code",
   "execution_count": null,
   "id": "bd4e0c0e-17a0-417c-b72b-eec1523757b1",
   "metadata": {
    "microsoft": {
     "language": "python",
     "language_group": "synapse_pyspark"
    }
   },
   "outputs": [
    {
     "data": {
      "application/vnd.livy.statement-meta+json": {
       "execution_finish_time": "2025-04-05T06:52:32.0561153Z",
       "execution_start_time": "2025-04-05T06:52:31.7440565Z",
       "livy_statement_state": "available",
       "normalized_state": "finished",
       "parent_msg_id": "da3d4b7a-0b8a-45a8-805a-aa1e364f3a01",
       "queued_time": "2025-04-05T06:52:31.7429514Z",
       "session_id": "aa6e7c3b-3526-4a87-86df-a61688ae6faa",
       "session_start_time": null,
       "spark_pool": null,
       "state": "finished",
       "statement_id": 9,
       "statement_ids": [
        9
       ]
      },
      "text/plain": [
       "StatementMeta(, aa6e7c3b-3526-4a87-86df-a61688ae6faa, 9, Finished, Available, Finished)"
      ]
     },
     "metadata": {},
     "output_type": "display_data"
    }
   ],
   "source": [
    "\n",
    "try:\n",
    "        df_dep = spark.read.format('delta').load(Gold+'//'+'DimEmployee')\n",
    "        df_emp = spark.read.format('delta').load(Gold+'//'+'DimDepartment')\n",
    "        df_loc = spark.read.format('delta').load(Gold+'//'+'DimLocation')\n",
    "        df_fact = spark.read.format('delta').load(Gold+'//'+'Fact_Table')\n",
    "except:\n",
    "        print(sys)\n",
    "\n",
    "try:\n",
    "        jdbc_url = f\"jdbc:sqlserver://surajsat01.database.windows.net:1433;databaseName=rughwed\"\n",
    "        \n",
    "        # Connection properties\n",
    "        connection_properties = {\n",
    "            \"user\": \"surajsatpute\",\n",
    "            \"password\": \"Suraj@123\",\n",
    "            \"driver\": \"com.microsoft.sqlserver.jdbc.SQLServerDriver\"\n",
    "        }\n",
    "\n",
    "        df_dep.write.jdbc(\n",
    "            url=jdbc_url,\n",
    "            table=\"dim_dep\",  \n",
    "            mode=\"overwrite\",          \n",
    "            properties=connection_properties\n",
    "        )\n",
    "        df_loc.write.jdbc(\n",
    "            url=jdbc_url,\n",
    "            table=\"dim_loc\",  \n",
    "            mode=\"overwrite\",           \n",
    "            properties=connection_properties\n",
    "        )\n",
    "        df_emp.write.jdbc(\n",
    "            url=jdbc_url,\n",
    "            table=\"dim_emp\",  \n",
    "            mode=\"overwrite\",          \n",
    "            properties=connection_properties\n",
    "        )\n",
    "        df_fact.write.jdbc(\n",
    "            url=jdbc_url,\n",
    "            table=\"dim_fact\",  \n",
    "            mode=\"overwrite\",           \n",
    "            properties=connection_properties\n",
    "        )\n",
    "except:\n",
    "        print(sys.exc_info())"
   ]
  },
  {
   "cell_type": "code",
   "execution_count": null,
   "id": "08f2f251-ca1c-4858-aeac-8f3e1c07f2ec",
   "metadata": {
    "microsoft": {
     "language": "python",
     "language_group": "synapse_pyspark"
    }
   },
   "outputs": [
    {
     "data": {
      "application/vnd.livy.statement-meta+json": {
       "execution_finish_time": "2025-04-05T06:49:17.3166241Z",
       "execution_start_time": "2025-04-05T06:49:16.9614271Z",
       "livy_statement_state": "available",
       "normalized_state": "finished",
       "parent_msg_id": "feb29758-c2cf-4dbd-8218-693e59de8e1a",
       "queued_time": "2025-04-05T06:48:01.8638284Z",
       "session_id": "aa6e7c3b-3526-4a87-86df-a61688ae6faa",
       "session_start_time": null,
       "spark_pool": null,
       "state": "finished",
       "statement_id": 5,
       "statement_ids": [
        5
       ]
      },
      "text/plain": [
       "StatementMeta(, aa6e7c3b-3526-4a87-86df-a61688ae6faa, 5, Finished, Available, Finished)"
      ]
     },
     "metadata": {},
     "output_type": "display_data"
    }
   ],
   "source": [
    "try:\n",
    "        jdbc_url = f\"jdbc:sqlserver://surajsat01.database.windows.net:1433;databaseName=rughwed\"\n",
    "        \n",
    "        # Connection properties\n",
    "        connection_properties = {\n",
    "            \"user\": \"surajsatpute\",\n",
    "            \"password\": \"Suraj@123\",\n",
    "            \"driver\": \"com.microsoft.sqlserver.jdbc.SQLServerDriver\"\n",
    "        }\n",
    "\n",
    "        df_dep.write.jdbc(\n",
    "            url=jdbc_url,\n",
    "            table=\"dim_dep\",  \n",
    "            mode=\"overwrite\",          \n",
    "            properties=connection_properties\n",
    "        )\n",
    "        df_loc.write.jdbc(\n",
    "            url=jdbc_url,\n",
    "            table=\"dim_loc\",  \n",
    "            mode=\"overwrite\",           \n",
    "            properties=connection_properties\n",
    "        )\n",
    "        df_emp.write.jdbc(\n",
    "            url=jdbc_url,\n",
    "            table=\"dim_emp\",  \n",
    "            mode=\"overwrite\",          \n",
    "            properties=connection_properties\n",
    "        )\n",
    "        df_fact.write.jdbc(\n",
    "            url=jdbc_url,\n",
    "            table=\"dim_fact\",  \n",
    "            mode=\"overwrite\",           \n",
    "            properties=connection_properties\n",
    "        )\n",
    "except:\n",
    "        print(sys.exc_info())"
   ]
  }
 ],
 "metadata": {
  "dependencies": {
   "lakehouse": {
    "default_lakehouse": "151adc4d-ca6b-4a88-84b8-a989fa42da9a",
    "default_lakehouse_name": "Rughwed_Gold",
    "default_lakehouse_workspace_id": "cc7fc8ef-05a5-4260-9f03-ba315c3d1a79",
    "known_lakehouses": [
     {
      "id": "151adc4d-ca6b-4a88-84b8-a989fa42da9a"
     }
    ]
   }
  },
  "kernel_info": {
   "name": "synapse_pyspark"
  },
  "kernelspec": {
   "display_name": "Synapse PySpark",
   "language": "Python",
   "name": "synapse_pyspark"
  },
  "language_info": {
   "name": "python"
  },
  "microsoft": {
   "language": "python",
   "language_group": "synapse_pyspark",
   "ms_spell_check": {
    "ms_spell_check_language": "en"
   }
  },
  "nteract": {
   "version": "nteract-front-end@1.0.0"
  },
  "spark_compute": {
   "compute_id": "/trident/default",
   "session_options": {
    "conf": {
     "spark.synapse.nbs.session.timeout": "1200000"
    }
   }
  },
  "synapse_widget": {
   "state": {},
   "version": "0.1"
  }
 },
 "nbformat": 4,
 "nbformat_minor": 5
}
