{
 "cells": [
  {
   "cell_type": "code",
   "execution_count": 2,
   "id": "349393b9-d58f-49a3-9ed3-964513dcc435",
   "metadata": {
    "microsoft": {
     "language": "python",
     "language_group": "synapse_pyspark"
    }
   },
   "outputs": [
    {
     "data": {
      "application/vnd.livy.statement-meta+json": {
       "execution_finish_time": "2025-04-05T03:23:46.6887709Z",
       "execution_start_time": "2025-04-05T03:23:46.6220651Z",
       "livy_statement_state": "available",
       "normalized_state": "finished",
       "parent_msg_id": "4f6407e3-0e36-491b-b1be-435c6913fe4b",
       "queued_time": "2025-04-05T03:23:45.1421701Z",
       "session_id": "9765597b-f18b-40b8-bbcc-3a494bbb27ee",
       "session_start_time": null,
       "spark_pool": null,
       "state": "finished",
       "statement_id": 4,
       "statement_ids": [
        4
       ]
      },
      "text/plain": [
       "StatementMeta(, 9765597b-f18b-40b8-bbcc-3a494bbb27ee, 4, Finished, Available, Finished)"
      ]
     },
     "metadata": {},
     "output_type": "display_data"
    }
   ],
   "source": [
    "%run file_paths_updt Copy\n"
   ]
  },
  {
   "cell_type": "code",
   "execution_count": 3,
   "id": "febf865a-d103-4b59-bacc-a1e73531515a",
   "metadata": {
    "microsoft": {
     "language": "python",
     "language_group": "synapse_pyspark"
    }
   },
   "outputs": [
    {
     "data": {
      "application/vnd.livy.statement-meta+json": {
       "execution_finish_time": "2025-04-05T03:23:49.5894299Z",
       "execution_start_time": "2025-04-05T03:23:49.2887082Z",
       "livy_statement_state": "available",
       "normalized_state": "finished",
       "parent_msg_id": "47c46d93-d4e7-420e-a64c-c9119cd99cff",
       "queued_time": "2025-04-05T03:23:49.2875323Z",
       "session_id": "9765597b-f18b-40b8-bbcc-3a494bbb27ee",
       "session_start_time": null,
       "spark_pool": null,
       "state": "finished",
       "statement_id": 5,
       "statement_ids": [
        5
       ]
      },
      "text/plain": [
       "StatementMeta(, 9765597b-f18b-40b8-bbcc-3a494bbb27ee, 5, Finished, Available, Finished)"
      ]
     },
     "metadata": {},
     "output_type": "display_data"
    }
   ],
   "source": [
    "from pyspark.sql.functions import *\n",
    "from pyspark.sql.window import Window\n",
    "from pyspark.sql.types import *\n",
    "import sys"
   ]
  },
  {
   "cell_type": "code",
   "execution_count": null,
   "id": "b5935540-8c5c-445a-9d05-156350d7ffac",
   "metadata": {
    "microsoft": {
     "language": "python",
     "language_group": "synapse_pyspark"
    }
   },
   "outputs": [
    {
     "data": {
      "application/vnd.livy.statement-meta+json": {
       "execution_finish_time": "2025-04-05T03:25:38.80214Z",
       "execution_start_time": "2025-04-05T03:25:38.4796267Z",
       "livy_statement_state": "available",
       "normalized_state": "finished",
       "parent_msg_id": "aad937b8-2006-4dbe-8d5d-0d7d37172d9f",
       "queued_time": "2025-04-05T03:25:38.4782154Z",
       "session_id": "9765597b-f18b-40b8-bbcc-3a494bbb27ee",
       "session_start_time": null,
       "spark_pool": null,
       "state": "finished",
       "statement_id": 6,
       "statement_ids": [
        6
       ]
      },
      "text/plain": [
       "StatementMeta(, 9765597b-f18b-40b8-bbcc-3a494bbb27ee, 6, Finished, Available, Finished)"
      ]
     },
     "metadata": {},
     "output_type": "display_data"
    }
   ],
   "source": [
    "%run file_paths_updt Copy\n",
    "\n",
    "from pyspark.sql.functions import *\n",
    "from pyspark.sql.window import Window\n",
    "from pyspark.sql.types import *\n",
    "import sys\n",
    "\n",
    "def silver_gold_emp_dim():\n",
    "    try:\n",
    "        df = spark.read.format('delta').load(Silver+'//'+'hr_data_silver')\n",
    "        dfnew = df.select('emp_id_int','employee_id','first_name','last_name','birthdate','gender','race','hire_date','termdate','Ingestion_date')\n",
    "        dim_emp = dfnew.withColumn(\n",
    "            \"gender\",\n",
    "            when(col(\"gender\") == \"M\", \"Male\")\n",
    "            .when(col(\"gender\") == \"FM\", \"Female\")\n",
    "            .otherwise('Other') )\\\n",
    "            .withColumn('Full_Name',concat(col('first_name'),lit(\" \"),col('last_name')))\\\n",
    "            .withColumnRenamed('termdate','Termination_date')\n",
    "        dim_emp.write.format('delta').save(Gold+'//'+'DimEmployee')\n",
    "    except:\n",
    "        print(sys.exc_info())\n",
    "\n",
    "def silver_gold_loc_dim():\n",
    "        try:\n",
    "            df = spark.read.format('delta').load(Silver+'//'+'hr_data_silver')\n",
    "            df2 = df.select('location_state','location_city').distinct()\n",
    "            dim_loc = df2.withColumn('location_id',row_number().over(Window.orderBy('location_state')))\\\n",
    "                        .withColumn('location',concat(col('location_city'),lit(','),col('location_state')))\n",
    "            dim_loc.write.format('delta').save(Gold+'//'+'DimLocation')\n",
    "        except:\n",
    "            print(sys.exc_info()) \n",
    "def silver_gold_dept_dim():\n",
    "    try:\n",
    "        df = spark.read.format('delta').load(Silver+'//'+'hr_data_silver')\n",
    "        df3 = df.select('department').distinct()\n",
    "        dim_dept = df3.withColumn('Department_id',row_number().over(Window.orderBy('department')))\n",
    "        dim_dept.write.format('delta').save(Gold+'//'+'DimDepartment')\n",
    "       \n",
    "    except:\n",
    "        print(sys.exc_info())"
   ]
  },
  {
   "cell_type": "code",
   "execution_count": 5,
   "id": "10daf73e-4dad-4168-99d0-a28aa4ba8af6",
   "metadata": {
    "microsoft": {
     "language": "python",
     "language_group": "synapse_pyspark"
    }
   },
   "outputs": [
    {
     "data": {
      "application/vnd.livy.statement-meta+json": {
       "execution_finish_time": "2025-04-05T03:26:31.9012649Z",
       "execution_start_time": "2025-04-05T03:26:31.6038024Z",
       "livy_statement_state": "available",
       "normalized_state": "finished",
       "parent_msg_id": "4b49e3ab-90e8-47ed-ad2e-32f362782568",
       "queued_time": "2025-04-05T03:26:31.6023925Z",
       "session_id": "9765597b-f18b-40b8-bbcc-3a494bbb27ee",
       "session_start_time": null,
       "spark_pool": null,
       "state": "finished",
       "statement_id": 7,
       "statement_ids": [
        7
       ]
      },
      "text/plain": [
       "StatementMeta(, 9765597b-f18b-40b8-bbcc-3a494bbb27ee, 7, Finished, Available, Finished)"
      ]
     },
     "metadata": {},
     "output_type": "display_data"
    }
   ],
   "source": [
    "def silver_gold_dept_dim():\n",
    "    try:\n",
    "        df = spark.read.format('delta').load(Silver+'//'+'hr_data_silver')\n",
    "        df3 = df.select('department').distinct()\n",
    "        dim_dept = df3.withColumn('Department_id',row_number().over(Window.orderBy('department')))\n",
    "        dim_dept.write.format('delta').save(Gold+'//'+'DimDepartment')\n",
    "       \n",
    "    except:\n",
    "        print(sys.exc_info())"
   ]
  },
  {
   "cell_type": "code",
   "execution_count": 23,
   "id": "e9c2cdf3-0683-4d35-9617-59d2e5eb232c",
   "metadata": {
    "microsoft": {
     "language": "python",
     "language_group": "synapse_pyspark"
    }
   },
   "outputs": [
    {
     "data": {
      "application/vnd.livy.statement-meta+json": {
       "execution_finish_time": "2025-04-05T00:33:24.3468221Z",
       "execution_start_time": "2025-04-05T00:33:23.3995254Z",
       "livy_statement_state": "available",
       "normalized_state": "finished",
       "parent_msg_id": "d73002e5-d7c8-45f2-989d-7e72dc4f40bc",
       "queued_time": "2025-04-05T00:33:23.398348Z",
       "session_id": "80e09826-9c50-4964-85b5-e26db6ec4aad",
       "session_start_time": null,
       "spark_pool": null,
       "state": "finished",
       "statement_id": 25,
       "statement_ids": [
        25
       ]
      },
      "text/plain": [
       "StatementMeta(, 80e09826-9c50-4964-85b5-e26db6ec4aad, 25, Finished, Available, Finished)"
      ]
     },
     "metadata": {},
     "output_type": "display_data"
    },
    {
     "name": "stdout",
     "output_type": "stream",
     "text": [
      "(<class 'pyspark.errors.exceptions.captured.AnalysisException'>, AnalysisException(), <traceback object at 0x7dae01e2b400>)\n"
     ]
    }
   ],
   "source": [
    "silver_gold_dept_dim()\n",
    "silver_gold_emp_dim()\n",
    "silver_gold_loc_dim()"
   ]
  }
 ],
 "metadata": {
  "dependencies": {},
  "kernel_info": {
   "name": "synapse_pyspark"
  },
  "kernelspec": {
   "display_name": "Synapse PySpark",
   "language": "Python",
   "name": "synapse_pyspark"
  },
  "language_info": {
   "name": "python"
  },
  "microsoft": {
   "language": "python",
   "language_group": "synapse_pyspark",
   "ms_spell_check": {
    "ms_spell_check_language": "en"
   }
  },
  "nteract": {
   "version": "nteract-front-end@1.0.0"
  },
  "spark_compute": {
   "compute_id": "/trident/default",
   "session_options": {
    "conf": {
     "spark.synapse.nbs.session.timeout": "1200000"
    }
   }
  },
  "synapse_widget": {
   "state": {},
   "version": "0.1"
  }
 },
 "nbformat": 4,
 "nbformat_minor": 5
}
