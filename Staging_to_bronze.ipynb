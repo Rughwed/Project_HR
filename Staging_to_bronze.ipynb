{
 "cells": [
  {
   "cell_type": "code",
   "execution_count": null,
   "id": "1bdd533e-2641-4706-8bb4-999fbb9af910",
   "metadata": {
    "microsoft": {
     "language": "python",
     "language_group": "synapse_pyspark"
    }
   },
   "outputs": [
    {
     "data": {
      "application/vnd.livy.statement-meta+json": {
       "execution_finish_time": "2025-04-05T02:58:23.8526218Z",
       "execution_start_time": "2025-04-05T02:58:23.7971616Z",
       "livy_statement_state": "available",
       "normalized_state": "finished",
       "parent_msg_id": "440aa75f-378b-4db8-8e07-531153bcd355",
       "queued_time": "2025-04-05T02:58:23.3091118Z",
       "session_id": "be9964e8-2c22-4f29-8060-949bd0c62fe9",
       "session_start_time": null,
       "spark_pool": null,
       "state": "finished",
       "statement_id": 7,
       "statement_ids": [
        7
       ]
      },
      "text/plain": [
       "StatementMeta(, be9964e8-2c22-4f29-8060-949bd0c62fe9, 7, Finished, Available, Finished)"
      ]
     },
     "metadata": {},
     "output_type": "display_data"
    }
   ],
   "source": [
    "%run file_paths_updt Copy\n",
    "\n",
    "from pyspark.sql.functions import *\n",
    "from pyspark.sql.types import *\n",
    "import sys\n",
    "\n",
    "def stag_bronze():\n",
    "    try:\n",
    "       df_l = spark.read.csv(Staging+'//'+'*.csv',inferSchema=True,header=True)\n",
    "       df = df_l.withColumn('Ingestion_date',current_date()) # for tracking the ingestion\n",
    "       df.write.parquet(Bronze+'//'+'hr_data_bronze.parquet',mode='overwrite')\n",
    "    except:\n",
    "        print(sys.exc_info())\n",
    "stag_bronze()\n"
   ]
  },
  {
   "cell_type": "code",
   "execution_count": null,
   "id": "f784a904-345b-4c11-a85a-38a164add11e",
   "metadata": {
    "microsoft": {
     "language": "python",
     "language_group": "synapse_pyspark"
    }
   },
   "outputs": [
    {
     "data": {
      "application/vnd.livy.statement-meta+json": {
       "execution_finish_time": "2025-04-05T02:58:32.6407973Z",
       "execution_start_time": "2025-04-05T02:58:32.3029468Z",
       "livy_statement_state": "available",
       "normalized_state": "finished",
       "parent_msg_id": "b0f7e938-058d-48cb-a300-62f5d2249f84",
       "queued_time": "2025-04-05T02:58:32.3017836Z",
       "session_id": "be9964e8-2c22-4f29-8060-949bd0c62fe9",
       "session_start_time": null,
       "spark_pool": null,
       "state": "finished",
       "statement_id": 9,
       "statement_ids": [
        9
       ]
      },
      "text/plain": [
       "StatementMeta(, be9964e8-2c22-4f29-8060-949bd0c62fe9, 9, Finished, Available, Finished)"
      ]
     },
     "metadata": {},
     "output_type": "display_data"
    }
   ],
   "source": [
    " #The stag_bronze() function reads all CSV files from the Staging folder, adds a new column\n",
    " #called Ingestion_date with the current date to track when the data was loaded, and writes the \n",
    " #result as a Parquet file to the Bronze layer. It's wrapped in a try-except block to catch and\n",
    " # print any errors during execution."
   ]
  }
 ],
 "metadata": {
  "dependencies": {
   "lakehouse": {
    "default_lakehouse": "151adc4d-ca6b-4a88-84b8-a989fa42da9a",
    "default_lakehouse_name": "Rughwed_Gold",
    "default_lakehouse_workspace_id": "cc7fc8ef-05a5-4260-9f03-ba315c3d1a79",
    "known_lakehouses": [
     {
      "id": "151adc4d-ca6b-4a88-84b8-a989fa42da9a"
     },
     {
      "id": "decf4dae-3d7c-42dc-a870-013b4552bd91"
     },
     {
      "id": "8e16ae75-d9d2-467c-8fb5-c3b9b3b2ab6e"
     },
     {
      "id": "06c1e1ab-893a-459d-8b83-700a139ebf62"
     }
    ]
   }
  },
  "kernel_info": {
   "name": "synapse_pyspark"
  },
  "kernelspec": {
   "display_name": "Synapse PySpark",
   "language": "Python",
   "name": "synapse_pyspark"
  },
  "language_info": {
   "name": "python"
  },
  "microsoft": {
   "language": "python",
   "language_group": "synapse_pyspark",
   "ms_spell_check": {
    "ms_spell_check_language": "en"
   }
  },
  "nteract": {
   "version": "nteract-front-end@1.0.0"
  },
  "spark_compute": {
   "compute_id": "/trident/default",
   "session_options": {
    "conf": {
     "spark.synapse.nbs.session.timeout": "1200000"
    }
   }
  },
  "synapse_widget": {
   "state": {},
   "version": "0.1"
  }
 },
 "nbformat": 4,
 "nbformat_minor": 5
}
