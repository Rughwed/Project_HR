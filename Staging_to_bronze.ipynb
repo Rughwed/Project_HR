{
 "cells": [
  {
   "cell_type": "code",
   "execution_count": null,
   "id": "1bdd533e-2641-4706-8bb4-999fbb9af910",
   "metadata": {
    "microsoft": {
     "language": "python",
     "language_group": "synapse_pyspark"
    }
   },
   "outputs": [
    {
     "data": {
      "application/vnd.livy.statement-meta+json": {
       "execution_finish_time": "2025-04-05T02:58:23.8526218Z",
       "execution_start_time": "2025-04-05T02:58:23.7971616Z",
       "livy_statement_state": "available",
       "normalized_state": "finished",
       "parent_msg_id": "440aa75f-378b-4db8-8e07-531153bcd355",
       "queued_time": "2025-04-05T02:58:23.3091118Z",
       "session_id": "be9964e8-2c22-4f29-8060-949bd0c62fe9",
       "session_start_time": null,
       "spark_pool": null,
       "state": "finished",
       "statement_id": 7,
       "statement_ids": [
        7
       ]
      },
      "text/plain": [
       "StatementMeta(, be9964e8-2c22-4f29-8060-949bd0c62fe9, 7, Finished, Available, Finished)"
      ]
     },
     "metadata": {},
     "output_type": "display_data"
    }
   ],
   "source": [
    "%run file_paths_updt Copy\n",
    "\n",
    "from pyspark.sql.functions import *\n",
    "from pyspark.sql.types import *\n",
    "import sys\n",
    "\n",
    "def stag_bronze():\n",
    "    try:\n",
    "       df_l = spark.read.csv(Staging+'//'+'*.csv',inferSchema=True,header=True)\n",
    "       df = df_l.withColumn('Ingestion_date',current_date()) # for tracking the ingestion\n",
    "       df.write.parquet(Bronze+'//'+'hr_data_bronze.parquet',mode='overwrite')\n",
    "    except:\n",
    "        print(sys.exc_info())\n",
    "stag_bronze()\n"
   ]
  },
  {
   "cell_type": "code",
   "execution_count": null,
   "id": "f784a904-345b-4c11-a85a-38a164add11e",
   "metadata": {
    "microsoft": {
     "language": "python",
     "language_group": "synapse_pyspark"
    }
   },
   "outputs": [
    {
     "data": {
      "application/vnd.livy.statement-meta+json": {
       "execution_finish_time": "2025-04-05T02:58:32.6407973Z",
       "execution_start_time": "2025-04-05T02:58:32.3029468Z",
       "livy_statement_state": "available",
       "normalized_state": "finished",
       "parent_msg_id": "b0f7e938-058d-48cb-a300-62f5d2249f84",
       "queued_time": "2025-04-05T02:58:32.3017836Z",
       "session_id": "be9964e8-2c22-4f29-8060-949bd0c62fe9",
       "session_start_time": null,
       "spark_pool": null,
       "state": "finished",
       "statement_id": 9,
       "statement_ids": [
        9
       ]
      },
      "text/plain": [
       "StatementMeta(, be9964e8-2c22-4f29-8060-949bd0c62fe9, 9, Finished, Available, Finished)"
      ]
     },
     "metadata": {},
     "output_type": "display_data"
    }
   ],
   "source": []
  },
  {
   "cell_type": "code",
   "execution_count": 13,
   "id": "49170976-60eb-4d18-bb89-ef7e7df6f2ba",
   "metadata": {
    "collapsed": false,
    "microsoft": {
     "language": "python",
     "language_group": "synapse_pyspark"
    }
   },
   "outputs": [
    {
     "data": {
      "application/vnd.livy.statement-meta+json": {
       "execution_finish_time": "2025-04-05T03:04:20.5101958Z",
       "execution_start_time": "2025-04-05T03:04:20.200535Z",
       "livy_statement_state": "available",
       "normalized_state": "finished",
       "parent_msg_id": "e0a6f6f0-ca5a-4b64-ac19-dae8da3e200d",
       "queued_time": "2025-04-05T03:04:20.1992723Z",
       "session_id": "be9964e8-2c22-4f29-8060-949bd0c62fe9",
       "session_start_time": null,
       "spark_pool": null,
       "state": "finished",
       "statement_id": 11,
       "statement_ids": [
        11
       ]
      },
      "text/plain": [
       "StatementMeta(, be9964e8-2c22-4f29-8060-949bd0c62fe9, 11, Finished, Available, Finished)"
      ]
     },
     "metadata": {},
     "output_type": "display_data"
    }
   ],
   "source": [
    "def stag_bronze():\n",
    "    try:\n",
    "       df_l = spark.read.csv(Staging+'//'+'*.csv',inferSchema=True,header=True)\n",
    "       df = df_l.withColumn('Ingestion_date',current_date()) # for tracking the ingestion\n",
    "       df.write.parquet(Bronze+'//'+'hr_data_bronze.parquet',mode='overwrite')\n",
    "    except:\n",
    "        print(sys.exc_info())"
   ]
  },
  {
   "cell_type": "code",
   "execution_count": 10,
   "id": "1347f9d3-ddb4-4b72-9306-276688e1870f",
   "metadata": {
    "microsoft": {
     "language": "python",
     "language_group": "synapse_pyspark"
    }
   },
   "outputs": [
    {
     "data": {
      "application/vnd.livy.statement-meta+json": {
       "execution_finish_time": "2025-04-04T22:32:16.2907619Z",
       "execution_start_time": "2025-04-04T22:32:02.447491Z",
       "livy_statement_state": "available",
       "normalized_state": "finished",
       "parent_msg_id": "75efd5ac-ce33-437a-8a0a-6f9b2e8bcd4a",
       "queued_time": "2025-04-04T22:32:02.4463152Z",
       "session_id": "1dc9a941-1797-4e99-a1df-edc39e924e97",
       "session_start_time": null,
       "spark_pool": null,
       "state": "finished",
       "statement_id": 8,
       "statement_ids": [
        8
       ]
      },
      "text/plain": [
       "StatementMeta(, 1dc9a941-1797-4e99-a1df-edc39e924e97, 8, Finished, Available, Finished)"
      ]
     },
     "metadata": {},
     "output_type": "display_data"
    }
   ],
   "source": [
    "stag_bronze()"
   ]
  }
 ],
 "metadata": {
  "dependencies": {
   "lakehouse": {
    "default_lakehouse": "151adc4d-ca6b-4a88-84b8-a989fa42da9a",
    "default_lakehouse_name": "Rughwed_Gold",
    "default_lakehouse_workspace_id": "cc7fc8ef-05a5-4260-9f03-ba315c3d1a79",
    "known_lakehouses": [
     {
      "id": "151adc4d-ca6b-4a88-84b8-a989fa42da9a"
     },
     {
      "id": "decf4dae-3d7c-42dc-a870-013b4552bd91"
     },
     {
      "id": "8e16ae75-d9d2-467c-8fb5-c3b9b3b2ab6e"
     },
     {
      "id": "06c1e1ab-893a-459d-8b83-700a139ebf62"
     }
    ]
   }
  },
  "kernel_info": {
   "name": "synapse_pyspark"
  },
  "kernelspec": {
   "display_name": "Synapse PySpark",
   "language": "Python",
   "name": "synapse_pyspark"
  },
  "language_info": {
   "name": "python"
  },
  "microsoft": {
   "language": "python",
   "language_group": "synapse_pyspark",
   "ms_spell_check": {
    "ms_spell_check_language": "en"
   }
  },
  "nteract": {
   "version": "nteract-front-end@1.0.0"
  },
  "spark_compute": {
   "compute_id": "/trident/default",
   "session_options": {
    "conf": {
     "spark.synapse.nbs.session.timeout": "1200000"
    }
   }
  },
  "synapse_widget": {
   "state": {},
   "version": "0.1"
  }
 },
 "nbformat": 4,
 "nbformat_minor": 5
}
